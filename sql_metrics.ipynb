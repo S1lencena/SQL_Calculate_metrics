{
 "cells": [
  {
   "cell_type": "markdown",
   "metadata": {},
   "source": [
    "### Задание 1. Очень усердные ученики"
   ]
  },
  {
   "cell_type": "markdown",
   "metadata": {},
   "source": [
    "#### Условие"
   ]
  },
  {
   "cell_type": "markdown",
   "metadata": {},
   "source": [
    "Образовательные курсы состоят из различных уроков, каждый из которых состоит из нескольких маленьких заданий. Каждое такое маленькое задание называется \"горошиной\".\n",
    "\n",
    "Назовём очень усердным учеником того пользователя, который хотя бы раз за текущий месяц **правильно** решил 20 горошин."
   ]
  },
  {
   "cell_type": "markdown",
   "metadata": {},
   "source": [
    "#### Задача"
   ]
  },
  {
   "cell_type": "markdown",
   "metadata": {},
   "source": [
    "Дана таблица **default.peas**:"
   ]
  },
  {
   "cell_type": "markdown",
   "metadata": {},
   "source": [
    "| Название атрибута | Тип атрибута | Смысловое значение                       |\n",
    "| :---------------- | :----------- | :--------------------------------------- |\n",
    "| st_id             | int          | ID ученика                               |\n",
    "| timest            | timestamp    | Время решения карточки                   | \n",
    "| correct           | bool         | Правильно ли решена горошина?            |      \n",
    "| subject           | text         | Дисциплина, в которой находится горошина |  "
   ]
  },
  {
   "cell_type": "markdown",
   "metadata": {},
   "source": [
    "Необходимо написать оптимальный запрос, который даст информацию о количестве очень усердных студентов. *NB! Под усердным студентом мы понимаем студента, который правильно решил 20 задач за текущий месяц.*"
   ]
  },
  {
   "cell_type": "markdown",
   "metadata": {},
   "source": [
    "#### Решение"
   ]
  },
  {
   "cell_type": "code",
   "execution_count": 1,
   "metadata": {},
   "outputs": [],
   "source": [
    "# импортируем библиотеки\n",
    "\n",
    "import pandahouse as ph\n",
    "import pandas as pd"
   ]
  },
  {
   "cell_type": "code",
   "execution_count": 2,
   "metadata": {},
   "outputs": [],
   "source": [
    "# объявляем параметры подключения\n",
    "\n",
    "connection_default = {'host': 'https://clickhouse.lab.karpov.courses',\n",
    "                           'database':'default',\n",
    "                           'user':'student', \n",
    "                           'password':'dpo_python_2020'\n",
    "                          }"
   ]
  },
  {
   "cell_type": "code",
   "execution_count": 13,
   "metadata": {},
   "outputs": [],
   "source": [
    "# пишем запрос, и получаем данные из clickhouse в pandas dataframe\n",
    "\n",
    "query = \"\"\"\n",
    "SELECT \n",
    "   count(distinct st_id) as hardworking_students\n",
    "FROM\n",
    "   (SELECT \n",
    "      st_id, \n",
    "      sum(correct) as correct\n",
    "    FROM default.peas\n",
    "    GROUP BY st_id\n",
    "    HAVING correct >= 20)\n",
    "\"\"\"\n",
    "\n",
    "hard_students = ph.read_clickhouse(query, connection=connection_default)"
   ]
  },
  {
   "cell_type": "markdown",
   "metadata": {},
   "source": [
    "#### Ответ"
   ]
  },
  {
   "cell_type": "code",
   "execution_count": 21,
   "metadata": {},
   "outputs": [
    {
     "name": "stdout",
     "output_type": "stream",
     "text": [
      "Количество очень усердных студентов: 136\n"
     ]
    }
   ],
   "source": [
    "print('Количество очень усердных студентов:', hard_students['hardworking_students'][0])"
   ]
  },
  {
   "cell_type": "markdown",
   "metadata": {},
   "source": [
    "### Задание 2. Оптимизация воронки"
   ]
  },
  {
   "cell_type": "markdown",
   "metadata": {},
   "source": [
    "#### Условие "
   ]
  },
  {
   "cell_type": "markdown",
   "metadata": {},
   "source": [
    "Образовательная платформа предлагает пройти студентам курсы по модели trial: студент может решить бесплатно лишь 30 горошин в день. Для неограниченного количества заданий в определенной дисциплине студенту необходимо приобрести полный доступ. Команда провела эксперимент, где был протестирован новый экран оплаты."
   ]
  },
  {
   "cell_type": "markdown",
   "metadata": {},
   "source": [
    "#### Задача"
   ]
  },
  {
   "cell_type": "markdown",
   "metadata": {},
   "source": [
    "Даны таблицы: **default.peas** (см. выше), **default.studs**:"
   ]
  },
  {
   "cell_type": "markdown",
   "metadata": {},
   "source": [
    "| Название атрибута | Тип атрибута | Смысловое значение                       |\n",
    "| :---------------- | :----------- | :--------------------------------------- |\n",
    "| st_id             | int          | ID ученика                               |\n",
    "| test_grp          | text         | Метка ученика в данном эксперименте      | "
   ]
  },
  {
   "cell_type": "markdown",
   "metadata": {},
   "source": [
    "и **default.final_project_check**:"
   ]
  },
  {
   "cell_type": "markdown",
   "metadata": {},
   "source": [
    "| Название атрибута | Тип атрибута | Смысловое значение                       |\n",
    "| :---------------- | :----------- | :--------------------------------------- |\n",
    "| st_id             | int          | ID ученика                               |\n",
    "| sale_time         | timestamp    | Время покупки                            | \n",
    "| money             | int          | Цена, по которой приобрели данный курс   |      \n",
    "| subject           | text         |                                          | "
   ]
  },
  {
   "cell_type": "markdown",
   "metadata": {},
   "source": [
    "Необходимо в одном запросе выгрузить следующую информацию о группах пользователей:\n",
    "\n",
    "* ARPU \n",
    "* ARPAU \n",
    "* CR в покупку \n",
    "* СR активного пользователя в покупку \n",
    "* CR пользователя из активности по математике (subject = ’math’) в покупку курса по математике\n",
    "\n",
    "ARPU считается относительно всех пользователей, попавших в группы.\n",
    "\n",
    "**Активным** считается пользователь, за все время решивший **больше** 10 задач правильно в любых дисциплинах.\n",
    "\n",
    "**Активным** по математике считается пользователь, за все время решивший **2 или больше** задач правильно по математике."
   ]
  },
  {
   "cell_type": "markdown",
   "metadata": {},
   "source": [
    "#### Решение"
   ]
  },
  {
   "cell_type": "code",
   "execution_count": 3,
   "metadata": {},
   "outputs": [],
   "source": [
    "query = \"\"\"\n",
    "WITH unique_users as ( \n",
    "    SELECT  \n",
    "       st_id,\n",
    "       test_grp  \n",
    "    FROM default.studs\n",
    "    GROUP BY \n",
    "       st_id,\n",
    "       test_grp),\n",
    "    total_data as (\n",
    "    SELECT  \n",
    "       u.st_id as st_id,\n",
    "       test_grp,\n",
    "       revenue,\n",
    "       revenue_math,\n",
    "       correct_answers,\n",
    "       correct_math_answers\n",
    "    FROM unique_users as u\n",
    "    LEFT JOIN \n",
    "            (\n",
    "            SELECT\n",
    "               st_id,\n",
    "               sum(money) as revenue,\n",
    "               sumIf(money, subject='Math') as revenue_math\n",
    "            FROM default.final_project_check\n",
    "            GROUP BY st_id\n",
    "            ) as r\n",
    "    ON u.st_id = r.st_id\n",
    "    LEFT JOIN \n",
    "            (\n",
    "            SELECT  \n",
    "               st_id,\n",
    "               sum(correct) as correct_answers,\n",
    "               sumIf(correct, subject='Math') as correct_math_answers\n",
    "            FROM default.peas\n",
    "            GROUP BY st_id\n",
    "            ) as c\n",
    "    ON u.st_id = c.st_id) \n",
    "SELECT \n",
    "   test_grp,\n",
    "   round(sum(revenue) / count(st_id), 2) as ARPU,\n",
    "   round(sumIf(revenue, correct_answers > 10) / countIf(correct_answers > 10), 2) as ARPAU,\n",
    "   round(countIf(revenue > 0) / count(st_id) * 100, 2) as CR,\n",
    "   round(countIf(revenue > 0 and correct_answers > 10) / countIf(correct_answers > 10) * 100, 2) as CR_active_users,\n",
    "   round(countIf(revenue_math > 0 and correct_math_answers > 2) / countIf(correct_math_answers > 2) * 100, 2) as CR_active_math\n",
    "FROM total_data   \n",
    "GROUP BY test_grp\n",
    "\"\"\"\n",
    "\n",
    "metrics = ph.read_clickhouse(query, connection=connection_default)"
   ]
  },
  {
   "cell_type": "markdown",
   "metadata": {},
   "source": [
    "#### Ответ"
   ]
  },
  {
   "cell_type": "code",
   "execution_count": 4,
   "metadata": {},
   "outputs": [
    {
     "data": {
      "text/html": [
       "<div>\n",
       "<style scoped>\n",
       "    .dataframe tbody tr th:only-of-type {\n",
       "        vertical-align: middle;\n",
       "    }\n",
       "\n",
       "    .dataframe tbody tr th {\n",
       "        vertical-align: top;\n",
       "    }\n",
       "\n",
       "    .dataframe thead th {\n",
       "        text-align: right;\n",
       "    }\n",
       "</style>\n",
       "<table border=\"1\" class=\"dataframe\">\n",
       "  <thead>\n",
       "    <tr style=\"text-align: right;\">\n",
       "      <th></th>\n",
       "      <th>test_grp</th>\n",
       "      <th>ARPU</th>\n",
       "      <th>ARPAU</th>\n",
       "      <th>CR</th>\n",
       "      <th>CR_active_users</th>\n",
       "      <th>CR_active_math</th>\n",
       "    </tr>\n",
       "  </thead>\n",
       "  <tbody>\n",
       "    <tr>\n",
       "      <th>0</th>\n",
       "      <td>control</td>\n",
       "      <td>4540.98</td>\n",
       "      <td>10393.70</td>\n",
       "      <td>4.92</td>\n",
       "      <td>11.02</td>\n",
       "      <td>6.12</td>\n",
       "    </tr>\n",
       "    <tr>\n",
       "      <th>1</th>\n",
       "      <td>pilot</td>\n",
       "      <td>11508.47</td>\n",
       "      <td>29739.58</td>\n",
       "      <td>10.85</td>\n",
       "      <td>26.04</td>\n",
       "      <td>9.52</td>\n",
       "    </tr>\n",
       "  </tbody>\n",
       "</table>\n",
       "</div>"
      ],
      "text/plain": [
       "  test_grp      ARPU     ARPAU     CR  CR_active_users  CR_active_math\n",
       "0  control   4540.98  10393.70   4.92            11.02            6.12\n",
       "1    pilot  11508.47  29739.58  10.85            26.04            9.52"
      ]
     },
     "execution_count": 4,
     "metadata": {},
     "output_type": "execute_result"
    }
   ],
   "source": [
    "metrics"
   ]
  }
 ],
 "metadata": {
  "kernelspec": {
   "display_name": "Python 3 (ipykernel)",
   "language": "python",
   "name": "python3"
  },
  "language_info": {
   "codemirror_mode": {
    "name": "ipython",
    "version": 3
   },
   "file_extension": ".py",
   "mimetype": "text/x-python",
   "name": "python",
   "nbconvert_exporter": "python",
   "pygments_lexer": "ipython3",
   "version": "3.10.9"
  }
 },
 "nbformat": 4,
 "nbformat_minor": 4
}
